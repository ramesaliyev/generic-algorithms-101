{
 "cells": [
  {
   "cell_type": "code",
   "execution_count": 1,
   "id": "f50eb03e-fe6b-422c-9bdf-7819037d10b3",
   "metadata": {},
   "outputs": [],
   "source": [
    "#%matplotlib widget"
   ]
  },
  {
   "cell_type": "code",
   "execution_count": 2,
   "id": "c0f48342-f85c-47ce-884b-7c944c98b348",
   "metadata": {},
   "outputs": [],
   "source": [
    "import numpy as np"
   ]
  },
  {
   "cell_type": "code",
   "execution_count": 3,
   "id": "c325c094-186c-4ea2-93ab-6cc7b019bd15",
   "metadata": {},
   "outputs": [
    {
     "name": "stdout",
     "output_type": "stream",
     "text": [
      "[ 1  3  5  7  9 11 13 15 17 19]\n",
      "[0.4687671  0.1562557  0.09375342 0.06696673 0.05208523 0.04261519\n",
      " 0.03605901 0.03125114 0.02757454 0.02467195]\n",
      "1.0\n"
     ]
    }
   ],
   "source": [
    "strength = 2\n",
    "ft = np.arange(1, (10 * strength) + 1, strength)\n",
    "print(ft)\n",
    "\n",
    "ft = 1 / ft\n",
    "ft = ft / ft.sum()\n",
    "\n",
    "print(ft)\n",
    "print(ft.sum())"
   ]
  },
  {
   "cell_type": "code",
   "execution_count": 4,
   "id": "9fb73532-e17c-4772-914d-efdc2c299cd6",
   "metadata": {},
   "outputs": [
    {
     "data": {
      "text/plain": [
       "array([1, 2, 3, 4, 5, 6, 7, 8, 9])"
      ]
     },
     "execution_count": 4,
     "metadata": {},
     "output_type": "execute_result"
    }
   ],
   "source": [
    "np.arange(1, 10)"
   ]
  },
  {
   "cell_type": "code",
   "execution_count": 5,
   "id": "9c54a9f1-04c4-446c-9b96-780ed59fb4da",
   "metadata": {},
   "outputs": [
    {
     "data": {
      "text/plain": [
       "array([ 1,  3,  5,  7,  9, 11, 13, 15, 17, 19])"
      ]
     },
     "execution_count": 5,
     "metadata": {},
     "output_type": "execute_result"
    }
   ],
   "source": [
    "pop_size = 10\n",
    "step_size = 2\n",
    "\n",
    "np.arange(1, (pop_size * step_size + 1), step_size)"
   ]
  },
  {
   "cell_type": "code",
   "execution_count": 6,
   "id": "8be90103-4241-4180-804b-e53a93c5a707",
   "metadata": {},
   "outputs": [],
   "source": [
    "rotation_costs = [0, 1, 2, 3, 4, 3, 2, 1]\n",
    "rot_cost_mean = sum(rotation_costs) // len(rotation_costs)"
   ]
  },
  {
   "cell_type": "code",
   "execution_count": 7,
   "id": "3792b08a-6770-4189-9866-6c1cbfc87000",
   "metadata": {},
   "outputs": [
    {
     "data": {
      "text/plain": [
       "16"
      ]
     },
     "execution_count": 7,
     "metadata": {},
     "output_type": "execute_result"
    }
   ],
   "source": [
    "1*2 + 2*2 + 3*2 + 4"
   ]
  },
  {
   "cell_type": "code",
   "execution_count": 8,
   "id": "037d0cd0-b6a4-42cf-9fab-fca0605b3ba7",
   "metadata": {},
   "outputs": [
    {
     "name": "stdout",
     "output_type": "stream",
     "text": [
      "4\n",
      "2.0\n"
     ]
    }
   ],
   "source": [
    "rotate_costs = np.roll(rotation_costs, 4 - 1)\n",
    "step_rotate_cost = rotate_costs[0-1]\n",
    "ft_rotate_cost = step_rotate_cost / 2.0\n",
    "\n",
    "print(step_rotate_cost)\n",
    "print(ft_rotate_cost)"
   ]
  },
  {
   "cell_type": "code",
   "execution_count": 9,
   "id": "5761108b-53d2-477c-a090-f0ecb30a0551",
   "metadata": {},
   "outputs": [
    {
     "name": "stdout",
     "output_type": "stream",
     "text": [
      "[[8 1 5 4 4 5 0 1 0 7]\n",
      " [4 3 2 5 2 7 3 5 8 5]\n",
      " [7 2 5 3 4 5 6 8 8 3]\n",
      " [7 8 1 2 4 6 6 7 5 3]]\n",
      "[[False  True False  True False False False False False False]\n",
      " [False False False False False False False False False False]\n",
      " [False False False False  True False False False False False]\n",
      " [ True  True  True  True False False False False False False]]\n",
      "[[1 6 1 6 3 4 2 2 3 0]\n",
      " [4 4 0 0 5 4 6 2 6 2]\n",
      " [4 7 6 7 2 1 8 8 0 6]\n",
      " [2 8 3 4 6 2 6 4 5 6]]\n",
      "[[8 6 5 6 4 5 0 1 0 7]\n",
      " [4 3 2 5 2 7 3 5 8 5]\n",
      " [7 2 5 3 2 5 6 8 8 3]\n",
      " [2 8 3 4 4 6 6 7 5 3]]\n"
     ]
    }
   ],
   "source": [
    "population = np.random.randint(0, 9, (4, 10))\n",
    "print(population)\n",
    "\n",
    "mindx = np.random.rand(4, 10) < 0.10\n",
    "print(mindx)\n",
    "\n",
    "replacew = np.random.randint(0, 9, (4, 10))\n",
    "print(replacew)\n",
    "\n",
    "population[mindx] = replacew[mindx]\n",
    "print(population)"
   ]
  },
  {
   "cell_type": "code",
   "execution_count": 10,
   "id": "2d2f4139-e0db-4997-8580-49e9b1897406",
   "metadata": {},
   "outputs": [
    {
     "name": "stdout",
     "output_type": "stream",
     "text": [
      "0.017948573909485503\n"
     ]
    }
   ],
   "source": [
    "mut_prob = 0.05 # probability of mutation\n",
    "mut_decay = 0.001\n",
    "    \n",
    "print(mut_prob * ((1-mut_decay)**1024))"
   ]
  },
  {
   "cell_type": "code",
   "execution_count": 11,
   "id": "f4b891c3-81a1-4fee-98bb-b22f25551441",
   "metadata": {},
   "outputs": [
    {
     "data": {
      "text/plain": [
       "2.8821"
      ]
     },
     "execution_count": 11,
     "metadata": {},
     "output_type": "execute_result"
    }
   ],
   "source": [
    "round(2.882102452392664, 5)"
   ]
  },
  {
   "cell_type": "code",
   "execution_count": 12,
   "id": "e6c8e6db-f9ba-45a9-a434-f2abc51fcbdc",
   "metadata": {},
   "outputs": [
    {
     "data": {
      "text/plain": [
       "array([2.882102, 3.123123, 5.125244])"
      ]
     },
     "execution_count": 12,
     "metadata": {},
     "output_type": "execute_result"
    }
   ],
   "source": [
    "np.round([2.882102452392664, 3.123123, 5.1252443], 6)"
   ]
  },
  {
   "cell_type": "code",
   "execution_count": 13,
   "id": "9d5621db-d908-45e1-b6ec-346f565afdf8",
   "metadata": {},
   "outputs": [
    {
     "data": {
      "text/plain": [
       "0.6931471805599453"
      ]
     },
     "execution_count": 13,
     "metadata": {},
     "output_type": "execute_result"
    }
   ],
   "source": [
    "import math\n",
    "math.log(2)"
   ]
  },
  {
   "cell_type": "code",
   "execution_count": null,
   "id": "c9f3c9ba-f547-4dfb-b735-481fcee84f98",
   "metadata": {},
   "outputs": [],
   "source": []
  },
  {
   "cell_type": "code",
   "execution_count": 14,
   "id": "d5b1c72c-38a5-4534-972b-b82a8a50bb12",
   "metadata": {},
   "outputs": [
    {
     "name": "stdout",
     "output_type": "stream",
     "text": [
      "0\n"
     ]
    }
   ],
   "source": [
    "moves = [\n",
    "    (0, 0), (-1, 0), (-1, 1),\n",
    "    (0, 1), (1, 1), (1, 0),\n",
    "    (1, -1), (0, -1), (-1, -1),\n",
    "]\n",
    "\n",
    "# Costs of rotations.\n",
    "rotation_costs = [0, 1, 2, 3, 4, 3, 2, 1]\n",
    "\n",
    "prv = 1\n",
    "nxt = 1\n",
    "\n",
    "rotate_costs = np.roll(rotation_costs, prv - 1)\n",
    "step_rotate_cost = rotate_costs[nxt - 1]\n",
    "\n",
    "print(step_rotate_cost)"
   ]
  },
  {
   "cell_type": "code",
   "execution_count": 15,
   "id": "a6ba011f-2fc9-489c-956c-1b3d72f28549",
   "metadata": {},
   "outputs": [
    {
     "data": {
      "text/plain": [
       "3.5"
      ]
     },
     "execution_count": 15,
     "metadata": {},
     "output_type": "execute_result"
    }
   ],
   "source": [
    "(np.array(rotation_costs) > 0).sum() / 2"
   ]
  },
  {
   "cell_type": "code",
   "execution_count": 16,
   "id": "1f836d31-92ac-4add-a757-e9390f1b2016",
   "metadata": {},
   "outputs": [
    {
     "data": {
      "text/plain": [
       "-7"
      ]
     },
     "execution_count": 16,
     "metadata": {},
     "output_type": "execute_result"
    }
   ],
   "source": [
    "5-12"
   ]
  },
  {
   "cell_type": "code",
   "execution_count": 17,
   "id": "91f49a2e-c30c-49b0-b8fc-bac8aaced2a1",
   "metadata": {},
   "outputs": [
    {
     "name": "stdout",
     "output_type": "stream",
     "text": [
      "[31 74]\n"
     ]
    }
   ],
   "source": [
    "rng = np.random.default_rng()\n",
    "splits = rng.choice(100, size=2, replace=False)\n",
    "splits.sort()\n",
    "print(splits)"
   ]
  },
  {
   "cell_type": "code",
   "execution_count": 18,
   "id": "de6f61d6-cd7b-43cf-900f-e20bdbd01189",
   "metadata": {},
   "outputs": [
    {
     "name": "stdout",
     "output_type": "stream",
     "text": [
      "[30 58]\n"
     ]
    }
   ],
   "source": [
    "splits = rng.choice(100, size=2, replace=False)\n",
    "splits.sort()\n",
    "print(splits)"
   ]
  },
  {
   "cell_type": "code",
   "execution_count": 19,
   "id": "a2aacbf8-f7ca-48bf-8d79-4e51636ae9f8",
   "metadata": {},
   "outputs": [
    {
     "name": "stdout",
     "output_type": "stream",
     "text": [
      "[26 47]\n"
     ]
    }
   ],
   "source": [
    "splits = rng.choice(100, size=2, replace=False)\n",
    "splits.sort()\n",
    "print(splits)"
   ]
  },
  {
   "cell_type": "code",
   "execution_count": 20,
   "id": "3869ced6-f9d0-4f81-bbd9-d36c1e4e806c",
   "metadata": {},
   "outputs": [
    {
     "name": "stdout",
     "output_type": "stream",
     "text": [
      "[60 84]\n"
     ]
    }
   ],
   "source": [
    "splits = rng.choice(100, size=2, replace=False)\n",
    "splits.sort()\n",
    "print(splits)"
   ]
  },
  {
   "cell_type": "code",
   "execution_count": 21,
   "id": "6fe05708-e36a-4dee-a6da-720c15b2ed5a",
   "metadata": {},
   "outputs": [
    {
     "name": "stdout",
     "output_type": "stream",
     "text": [
      "[16 91]\n"
     ]
    }
   ],
   "source": [
    "splits = rng.choice(100, size=2, replace=False)\n",
    "splits.sort()\n",
    "print(splits)"
   ]
  },
  {
   "cell_type": "code",
   "execution_count": 22,
   "id": "379d431b-fb03-48ed-836f-80ad49a287f6",
   "metadata": {},
   "outputs": [
    {
     "data": {
      "text/plain": [
       "dtype('float64')"
      ]
     },
     "execution_count": 22,
     "metadata": {},
     "output_type": "execute_result"
    }
   ],
   "source": [
    "np.full(10, np.inf).dtype"
   ]
  },
  {
   "cell_type": "code",
   "execution_count": 23,
   "id": "0baa53bf-9a87-4121-bd05-dba1e5c40650",
   "metadata": {},
   "outputs": [
    {
     "name": "stdout",
     "output_type": "stream",
     "text": [
      "16\n"
     ]
    }
   ],
   "source": [
    "for xx in [1,2,3,4]:\n",
    "    arama = xx ** 2\n",
    "    \n",
    "print(arama)"
   ]
  },
  {
   "cell_type": "code",
   "execution_count": 24,
   "id": "480a71ef-feb2-4e84-9d63-8194bac1a9ee",
   "metadata": {},
   "outputs": [
    {
     "name": "stdout",
     "output_type": "stream",
     "text": [
      "[0.09836066 0.14754098 0.13114754 0.19672131 0.2295082  0.19672131]\n",
      "1.0\n",
      "float64\n"
     ]
    }
   ],
   "source": [
    "weights = [\n",
    "    1.2, # w_inv_mov_loss\n",
    "    1.8, # w_rotate_loss\n",
    "    1.6, # w_rotate_cost\n",
    "    2.4, # w_overlap_loss\n",
    "    2.8, # w_spread_loss\n",
    "    2.4, # w_paint_loss\n",
    "]\n",
    "\n",
    "weights /= np.array(weights).sum()\n",
    "\n",
    "print(weights)\n",
    "print(weights.sum())\n",
    "print(weights.dtype)"
   ]
  },
  {
   "cell_type": "code",
   "execution_count": 25,
   "id": "93ef48ee-9e1c-40c7-bdea-d0729abf01df",
   "metadata": {},
   "outputs": [
    {
     "data": {
      "text/plain": [
       "1.540983606557377"
      ]
     },
     "execution_count": 25,
     "metadata": {},
     "output_type": "execute_result"
    }
   ],
   "source": [
    "(weights * [1,2,1,2,1,2]).sum()"
   ]
  },
  {
   "cell_type": "code",
   "execution_count": 26,
   "id": "9fbb661a-2fc2-4882-9ad0-e1e8e58b5910",
   "metadata": {},
   "outputs": [
    {
     "name": "stdout",
     "output_type": "stream",
     "text": [
      "[[0 0 1 0 0]\n",
      " [0 1 1 1 1]\n",
      " [0 1 1 1 1]\n",
      " [0 1 0 1 1]\n",
      " [1 0 0 1 1]]\n",
      "\n",
      "0.66\n",
      "\n",
      "[[1 3 3 4 2]\n",
      " [2 4 6 6 3]\n",
      " [3 4 7 7 5]\n",
      " [3 3 6 6 5]\n",
      " [1 2 3 3 3]]\n",
      "\n"
     ]
    }
   ],
   "source": [
    "size = 5\n",
    "\n",
    "mat = np.random.randint(0, 2, (size, size))\n",
    "#mat = np.ones((size, size))\n",
    "print(mat)\n",
    "print()\n",
    "\n",
    "pad = np.pad(mat, ((1,1),(1,1)), mode='constant')\n",
    "#print(pad)\n",
    "#print()\n",
    "\n",
    "shift_bo = pad[0:size+0, 1:size+1]\n",
    "shift_to = pad[2:size+2, 1:size+1]\n",
    "shift_ri = pad[1:size+1, 0:size+0]\n",
    "shift_le = pad[1:size+1, 2:size+2]\n",
    "shift_bl = pad[0:size+0, 2:size+2]\n",
    "shift_br = pad[0:size+0, 0:size+0]\n",
    "shift_tl = pad[2:size+2, 2:size+2]\n",
    "shift_tr = pad[2:size+2, 0:size+0]\n",
    "\n",
    "density_map = shift_bo + shift_to + shift_ri + shift_le + shift_bl + shift_br + shift_tl + shift_tr\n",
    "\n",
    "inner_size = size - 2\n",
    "max_density = (3 * 4) + (5 * 4 * inner_size) + (8 * inner_size**2)\n",
    "density = round(density_map.sum() / max_density, 3)\n",
    "\n",
    "print(density)\n",
    "print()\n",
    "\n",
    "print(density_map)\n",
    "print()"
   ]
  },
  {
   "cell_type": "code",
   "execution_count": 27,
   "id": "3eebcfe9-a152-4d4b-a9c6-4a36e7e8a136",
   "metadata": {},
   "outputs": [
    {
     "data": {
      "text/plain": [
       "7.0710678118654755"
      ]
     },
     "execution_count": 27,
     "metadata": {},
     "output_type": "execute_result"
    }
   ],
   "source": [
    "import math\n",
    "math.sqrt(5**2 + 5**2)"
   ]
  },
  {
   "cell_type": "code",
   "execution_count": 28,
   "id": "177947d9-0394-4f19-a2e1-33f960cf5aca",
   "metadata": {},
   "outputs": [
    {
     "data": {
      "text/plain": [
       "11.200000000000001"
      ]
     },
     "execution_count": 28,
     "metadata": {},
     "output_type": "execute_result"
    }
   ],
   "source": [
    "sum([\n",
    "    1.0, # w_density_cost\n",
    "    1.0, # w_inv_mov_loss\n",
    "    1.2, # w_rotate_loss\n",
    "    1.2, # w_rotate_cost\n",
    "    2.2, # w_overlap_loss\n",
    "    2.6, # w_spread_loss\n",
    "    2.0, # w_paint_loss\n",
    "])"
   ]
  },
  {
   "cell_type": "code",
   "execution_count": 29,
   "id": "20162625-bdf3-46a5-93a6-975fde341628",
   "metadata": {},
   "outputs": [
    {
     "data": {
      "text/plain": [
       "0.10714285714285715"
      ]
     },
     "execution_count": 29,
     "metadata": {},
     "output_type": "execute_result"
    }
   ],
   "source": [
    "1.2 / 11.2"
   ]
  },
  {
   "cell_type": "code",
   "execution_count": 30,
   "id": "4f71fce4-a007-4a82-8f71-1ecceeb885d1",
   "metadata": {},
   "outputs": [
    {
     "data": {
      "text/plain": [
       "1.0"
      ]
     },
     "execution_count": 30,
     "metadata": {},
     "output_type": "execute_result"
    }
   ],
   "source": [
    "1*1.0"
   ]
  },
  {
   "cell_type": "code",
   "execution_count": 31,
   "id": "a03463d6-799c-49a9-ac29-70fb00942422",
   "metadata": {},
   "outputs": [
    {
     "name": "stdout",
     "output_type": "stream",
     "text": [
      "0.5 4.1000000000000085\n"
     ]
    }
   ],
   "source": [
    "x = [95.9-92.5, 95.4-91.3, 92.3-91.8]\n",
    "print(min(x), max(x))"
   ]
  },
  {
   "cell_type": "code",
   "execution_count": 32,
   "id": "9fc079ab-6ca1-4b02-b8cc-afb3581bf8f8",
   "metadata": {},
   "outputs": [
    {
     "name": "stdout",
     "output_type": "stream",
     "text": [
      "[0, 5, 9, 13, 19, 26, 40]\n",
      "[3 6 7 1 8 3]\n",
      "[3, 3, 3, 3, 3, 6, 6, 6, 6, 7, 7, 7, 7, 1, 1, 1, 1, 1, 1, 8, 8, 8, 8, 8, 8, 8, 3, 3, 3, 3, 3, 3, 3, 3, 3, 3, 3, 3, 3, 3]\n"
     ]
    }
   ],
   "source": [
    "K = 40\n",
    "M = 8\n",
    "L = 5\n",
    "\n",
    "\n",
    "rng = np.random.default_rng()\n",
    "splits = rng.choice(K, size=L, replace=False)\n",
    "splits.sort()\n",
    "splits = list(splits)\n",
    "splits.append(K)\n",
    "splits.insert(0, 0)\n",
    "print(splits)\n",
    "\n",
    "picks = np.random.randint(1, 9, L + 1)\n",
    "print(picks)\n",
    "\n",
    "initial = [x for i, x in enumerate(picks) for a in range(splits[i], splits[i+1])]\n",
    "print(initial)"
   ]
  },
  {
   "cell_type": "code",
   "execution_count": 33,
   "id": "51df72ea-8a6e-4410-b8b4-f89f11cbaed3",
   "metadata": {},
   "outputs": [
    {
     "data": {
      "text/plain": [
       "[0, 1.0, 1.0, 1.0]"
      ]
     },
     "execution_count": 33,
     "metadata": {},
     "output_type": "execute_result"
    }
   ],
   "source": [
    "[0] + list(np.ones(3))"
   ]
  },
  {
   "cell_type": "code",
   "execution_count": 34,
   "id": "08b7309d-7dcd-4a51-92ed-3a08392fa782",
   "metadata": {},
   "outputs": [
    {
     "data": {
      "text/plain": [
       "tuple"
      ]
     },
     "execution_count": 34,
     "metadata": {},
     "output_type": "execute_result"
    }
   ],
   "source": [
    "type((1,2))"
   ]
  },
  {
   "cell_type": "code",
   "execution_count": 35,
   "id": "a9808769-a93b-41ea-a8a3-85bcf9f13298",
   "metadata": {},
   "outputs": [
    {
     "data": {
      "text/plain": [
       "True"
      ]
     },
     "execution_count": 35,
     "metadata": {},
     "output_type": "execute_result"
    }
   ],
   "source": [
    "type((1,2)) is tuple"
   ]
  },
  {
   "cell_type": "code",
   "execution_count": 36,
   "id": "158bc71d-d7e3-47a6-a894-ca0a0502b12f",
   "metadata": {},
   "outputs": [
    {
     "name": "stdout",
     "output_type": "stream",
     "text": [
      "[ 6 12 15] [0, 1, 2, 3, 4, 5, 6, 7, 8, 9, 10, 11, 12, 13, 14, 15, 16, 17, 18, 19]\n"
     ]
    }
   ],
   "source": [
    "x = list(range(20))\n",
    "sps = rng.choice(20, size=3, replace=False)\n",
    "sps.sort()\n",
    "\n",
    "print(sps, x)"
   ]
  },
  {
   "cell_type": "code",
   "execution_count": 37,
   "id": "51f3c203-2609-4d1e-a151-32f55e9a6c73",
   "metadata": {},
   "outputs": [
    {
     "data": {
      "text/plain": [
       "array([20, 18])"
      ]
     },
     "execution_count": 37,
     "metadata": {},
     "output_type": "execute_result"
    }
   ],
   "source": [
    "(np.array(x)*2)[[10, 9]]"
   ]
  },
  {
   "cell_type": "code",
   "execution_count": 38,
   "id": "e0b8b2f8-c8f9-4ca0-a473-8b6a03243f2b",
   "metadata": {},
   "outputs": [],
   "source": [
    "tmp = x[4]\n",
    "x[4:9] = x[5:10]\n",
    "x[9] = tmp"
   ]
  },
  {
   "cell_type": "code",
   "execution_count": 39,
   "id": "c1c42195-974f-41f5-bd6c-4e7ea0c5ef11",
   "metadata": {},
   "outputs": [
    {
     "data": {
      "text/plain": [
       "[0, 1, 2, 3, 5, 6, 7, 8, 9, 4, 10, 11, 12, 13, 14, 15, 16, 17, 18, 19]"
      ]
     },
     "execution_count": 39,
     "metadata": {},
     "output_type": "execute_result"
    }
   ],
   "source": [
    "x"
   ]
  },
  {
   "cell_type": "code",
   "execution_count": 40,
   "id": "c45fa24f-0912-4e26-9cf8-1baec95ad2d0",
   "metadata": {},
   "outputs": [
    {
     "data": {
      "text/plain": [
       "array([ 1,  2,  3,  4,  5,  6,  7,  8,  9, 10, 11, 12, 13, 14, 15, 16, 17,\n",
       "       18, 19,  0])"
      ]
     },
     "execution_count": 40,
     "metadata": {},
     "output_type": "execute_result"
    }
   ],
   "source": [
    "np.roll(list(range(20)), -1)"
   ]
  },
  {
   "cell_type": "code",
   "execution_count": 41,
   "id": "8a636ef2-c94f-4d44-9e20-1e0e15291cb9",
   "metadata": {},
   "outputs": [],
   "source": [
    "a = [\n",
    "    list(range(10)),\n",
    "    list(range(10)),\n",
    "    list(range(10)),\n",
    "]"
   ]
  },
  {
   "cell_type": "code",
   "execution_count": 42,
   "id": "0f9e13e2-0536-46c0-85ee-066da474326e",
   "metadata": {},
   "outputs": [],
   "source": [
    "b = list(map(lambda x: np.roll(x, -1), a))"
   ]
  },
  {
   "cell_type": "code",
   "execution_count": 43,
   "id": "2d5f8043-2f4e-480b-89af-8e4d79eeac7b",
   "metadata": {},
   "outputs": [
    {
     "data": {
      "text/plain": [
       "[array([1, 2, 3, 4, 5, 6, 7, 8, 9, 0]),\n",
       " array([1, 2, 3, 4, 5, 6, 7, 8, 9, 0]),\n",
       " array([1, 2, 3, 4, 5, 6, 7, 8, 9, 0])]"
      ]
     },
     "execution_count": 43,
     "metadata": {},
     "output_type": "execute_result"
    }
   ],
   "source": [
    "b"
   ]
  },
  {
   "cell_type": "code",
   "execution_count": 44,
   "id": "77dac1ad-d385-457b-a1df-e2961a163ea2",
   "metadata": {},
   "outputs": [
    {
     "data": {
      "image/png": "[encoded data removed]",
      "text/plain": [
       "<Figure size 432x288 with 1 Axes>"
      ]
     },
     "metadata": {
      "needs_background": "light"
     },
     "output_type": "display_data"
    }
   ],
   "source": [
    "import matplotlib.pyplot as plt\n",
    "import numpy as np\n",
    "import matplotlib.animation\n",
    "\n",
    "f = plt.figure()\n",
    "ax = f.gca()\n",
    "\n",
    "im = np.random.randn(100,100)\n",
    "image = plt.imshow(im, interpolation='None', animated=True)\n",
    "\n",
    "def function_for_animation(frame_index):\n",
    "    im = np.random.randn(100,100)\n",
    "    image.set_data(im)\n",
    "    ax.set_title(str(frame_index))\n",
    "    #ax.set_axis('off')\n",
    "    return image,\n",
    "\n",
    "ani = matplotlib.animation.FuncAnimation(f, function_for_animation, interval=200, frames=10, blit=True)\n",
    "anim = ani\n",
    "\n",
    "def on_press(event):\n",
    "    if event.key.isspace():\n",
    "        if anim.running:\n",
    "            anim.event_source.stop()\n",
    "        else:\n",
    "            anim.event_source.start()\n",
    "        anim.running ^= True\n",
    "    elif event.key == 'left':\n",
    "        anim.direction = -1\n",
    "    elif event.key == 'right':\n",
    "        anim.direction = +1\n",
    "\n",
    "    # Manually update the plot\n",
    "    if event.key in ['left','right']:\n",
    "        t = anim.frame_seq.next()\n",
    "        update_plot(t)\n",
    "        plt.draw()\n",
    "\n",
    "f.canvas.mpl_connect('key_press_event', on_press)\n",
    "\n",
    "anim.running = True\n",
    "anim.direction = +1\n",
    "\n",
    "FFwriter = matplotlib.animation.FFMpegWriter()\n",
    "ani.save('./temp/animation.mp4', writer=FFwriter)"
   ]
  },
  {
   "cell_type": "code",
   "execution_count": 45,
   "id": "1fa5b582-894a-4db5-a128-0dc2fcf2e768",
   "metadata": {},
   "outputs": [
    {
     "data": {
      "image/png": "[encoded data removed]",
      "text/plain": [
       "<Figure size 432x288 with 1 Axes>"
      ]
     },
     "metadata": {
      "needs_background": "light"
     },
     "output_type": "display_data"
    }
   ],
   "source": [
    "import matplotlib.pyplot as plt\n",
    "import matplotlib.animation as ani\n",
    "\n",
    "fig, ax = plt.subplots()\n",
    "txt = fig.text(0.5,0.5,'0')\n",
    "\n",
    "def update_time():\n",
    "    t = 0\n",
    "    t_max = 10\n",
    "    while t<t_max:\n",
    "        t += anim.direction\n",
    "        yield t\n",
    "\n",
    "def update_plot(t):\n",
    "    txt.set_text('%s'%t)\n",
    "    return txt\n",
    "\n",
    "def on_press(event):\n",
    "    print(event.key)\n",
    "    if event.key.isspace():\n",
    "        if anim.running:\n",
    "            anim.event_source.stop()\n",
    "        else:\n",
    "            anim.event_source.start()\n",
    "        anim.running ^= True\n",
    "    elif event.key == 'left':\n",
    "        anim.direction = -1\n",
    "    elif event.key == 'right':\n",
    "        anim.direction = +1\n",
    "\n",
    "    # Manually update the plot\n",
    "    if event.key in ['left','right']:\n",
    "        t = anim.frame_seq.__next__()\n",
    "        update_plot(t)\n",
    "        plt.draw()\n",
    "\n",
    "fig.canvas.mpl_connect('key_press_event', on_press)\n",
    "anim = ani.FuncAnimation(fig, update_plot, frames=update_time,\n",
    "                         interval=1000, repeat=True)\n",
    "anim.running = True\n",
    "anim.direction = +1\n",
    "plt.show()"
   ]
  },
  {
   "cell_type": "code",
   "execution_count": 46,
   "id": "614d3c45-bd30-41f4-8e5b-c3713007e498",
   "metadata": {},
   "outputs": [
    {
     "name": "stdout",
     "output_type": "stream",
     "text": [
      "1\n",
      "0\n",
      "-1\n",
      "-1\n",
      "-1\n",
      "0\n",
      "1\n"
     ]
    }
   ],
   "source": [
    "# Moves\n",
    "'''\n",
    "8 1 2\n",
    "7 0 3\n",
    "6 5 4\n",
    "'''\n",
    "moves = [\n",
    "    (0, 0), (-1, 0), (-1, 1),\n",
    "    (0, 1), (1, 1), (1, 0),\n",
    "    (1, -1), (0, -1), (-1, -1),\n",
    "]\n",
    "\n",
    "print(np.dot(moves[1], moves[2]))\n",
    "print(np.dot(moves[1], moves[3]))\n",
    "print(np.dot(moves[1], moves[4]))\n",
    "print(np.dot(moves[1], moves[5]))\n",
    "print(np.dot(moves[1], moves[6]))\n",
    "print(np.dot(moves[1], moves[7]))\n",
    "print(np.dot(moves[1], moves[8]))"
   ]
  },
  {
   "cell_type": "code",
   "execution_count": 47,
   "id": "aeb910f9-0342-49b2-bdf7-271d6e45e012",
   "metadata": {},
   "outputs": [
    {
     "name": "stdout",
     "output_type": "stream",
     "text": [
      "\n",
      "1 vs 1\n",
      "op [0 0] 1\n",
      "0.0\n",
      "0.0\n",
      "\n",
      "1 vs 2\n",
      "op [ 0 -1] 1\n",
      "1.0\n",
      "0.7853981633974484\n",
      "\n",
      "1 vs 3\n",
      "op [-1 -1] 0\n",
      "2.0\n",
      "1.5707963267948966\n",
      "\n",
      "1 vs 4\n",
      "op [-2 -1] -1\n",
      "3.0\n",
      "2.356194490192345\n",
      "\n",
      "1 vs 5\n",
      "op [-2  0] -1\n",
      "2.0\n",
      "3.141592653589793\n",
      "\n",
      "1 vs 6\n",
      "op [-2  1] -1\n",
      "3.0\n",
      "2.356194490192345\n",
      "\n",
      "1 vs 7\n",
      "op [-1  1] 0\n",
      "2.0\n",
      "1.5707963267948966\n",
      "\n",
      "1 vs 8\n",
      "op [0 1] 1\n",
      "1.0\n",
      "0.7853981633974484\n"
     ]
    }
   ],
   "source": [
    "mvs = np.array(moves)\n",
    "\n",
    "for i in range(1, len(mvs)):\n",
    "    print(f'\\n1 vs {i}')\n",
    "    op = mvs[1] - mvs[i];\n",
    "    op2 = np.dot(mvs[1], mvs[i]);\n",
    "    print('op', op, op2)\n",
    "    mag = np.linalg.norm(op, ord=1)\n",
    "    # math.sqrt(x[0]**2 + x[1]**2)\n",
    "    print(mag)\n",
    "    \n",
    "    norm = np.linalg.norm\n",
    "    \n",
    "    ang = np.arccos(np.dot(mvs[1], mvs[i])/(norm(mvs[1])*norm(mvs[i])))\n",
    "    print(ang)"
   ]
  },
  {
   "cell_type": "code",
   "execution_count": 48,
   "id": "05f1bce2-d0e0-4b92-bc3a-6930638de8ec",
   "metadata": {},
   "outputs": [
    {
     "data": {
      "image/png": "[encoded data removed]",
      "text/plain": [
       "<Figure size 2880x432 with 1 Axes>"
      ]
     },
     "metadata": {
      "needs_background": "light"
     },
     "output_type": "display_data"
    },
    {
     "name": "stdout",
     "output_type": "stream",
     "text": [
      "OLD calc in 0.0002548694610595703\n"
     ]
    },
    {
     "data": {
      "image/png": "[encoded data removed]",
      "text/plain": [
       "<Figure size 2880x432 with 1 Axes>"
      ]
     },
     "metadata": {
      "needs_background": "light"
     },
     "output_type": "display_data"
    },
    {
     "name": "stdout",
     "output_type": "stream",
     "text": [
      "NEW calc in 0.0008230209350585938\n"
     ]
    },
    {
     "data": {
      "image/png": "[encoded data removed]",
      "text/plain": [
       "<Figure size 2880x432 with 1 Axes>"
      ]
     },
     "metadata": {
      "needs_background": "light"
     },
     "output_type": "display_data"
    }
   ],
   "source": [
    "import numpy as np\n",
    "import cv2\n",
    "import matplotlib.pyplot as plt\n",
    "import time\n",
    "\n",
    "def show_image(img, size=(40, 6), title=None):\n",
    "    plt.figure(figsize=size)\n",
    "    plt.axis('off')\n",
    "    \n",
    "    if title is not None:\n",
    "        plt.title(title)\n",
    "    \n",
    "    plt.imshow(img, cmap=\"gray\", vmin=0, vmax=1)\n",
    "    plt.show()\n",
    "    \n",
    "def read_image(image_path):\n",
    "    img = cv2.imread(image_path)\n",
    "    img = cv2.cvtColor(img, cv2.COLOR_BGR2GRAY)\n",
    "    img = img // 255\n",
    "    return img\n",
    "\n",
    "img = read_image('images/owl_pix.png')\n",
    "show_image(img)\n",
    "\n",
    "bound_row = img.shape[0] - 1\n",
    "bound_col = img.shape[1] - 1\n",
    "\n",
    "side_size = img.shape[0]\n",
    "candidate = np.random.randint(1, 9, img.shape[1])\n",
    "\n",
    "### OLD\n",
    "solold = np.ones(img.shape)\n",
    "start_time = time.time()\n",
    "# Start point for solution.\n",
    "row = side_size - 1 \n",
    "col = 0\n",
    "solold[row][col] = 0\n",
    "\n",
    "for direction in candidate:\n",
    "    # Paint pixel if in bound.\n",
    "    move = moves[direction]\n",
    "    next_row = row + move[0]\n",
    "    next_col = col + move[1]\n",
    "    if (0 <= next_row <= bound_row) and (0 <= next_col <= bound_col):\n",
    "        row = next_row\n",
    "        col = next_col\n",
    "        solold[row][col] = 0\n",
    "print(f'OLD calc in {(time.time() - start_time)}')\n",
    "        \n",
    "show_image(solold)\n",
    "\n",
    "### NEW\n",
    "mvs = np.array(moves)\n",
    "\n",
    "solnew = np.ones(img.shape).reshape(-1)\n",
    "imgside = img.shape[0]\n",
    "\n",
    "start_time = time.time()\n",
    "\n",
    "can = candidate\n",
    "cano = can\n",
    "#print(can)\n",
    "can = mvs[can]\n",
    "\n",
    "###\n",
    "row = imgside - 1 \n",
    "col = 0\n",
    "\n",
    "#print(bound_row, bound_col)\n",
    "#print(row, col)\n",
    "\n",
    "zero = [0,0]\n",
    "for i, move in enumerate(can):\n",
    "    next_row = row + move[0]\n",
    "    next_col = col + move[1]\n",
    "    if (0 <= next_row <= bound_row) and (0 <= next_col <= bound_col):\n",
    "        row = next_row\n",
    "        col = next_col\n",
    "    else:\n",
    "        can[i] = zero\n",
    "        cano[i] = 0\n",
    "###\n",
    "#print(cano)\n",
    "cum = np.cumsum(can, axis=0)\n",
    "start = (imgside - 1) * imgside \n",
    "offsets = cum[:, 0] * imgside\n",
    "pixlocs = offsets + cum[:, 1] + start\n",
    "\n",
    "#print(cum)\n",
    "#print(imgside)\n",
    "#print(offsets)\n",
    "#print(pixlocs)\n",
    "\n",
    "solnew[start] = 0\n",
    "solnew[pixlocs] = 0\n",
    "solnew = solnew.reshape(img.shape)\n",
    "\n",
    "print(f'NEW calc in {(time.time() - start_time)}')\n",
    "\n",
    "show_image(solnew)\n",
    "\n",
    "#print(can)\n",
    "#print(cum)\n",
    "#print(pixlocs)"
   ]
  },
  {
   "cell_type": "code",
   "execution_count": 49,
   "id": "7149bc66-a36b-4261-b3e8-081c1543f6fc",
   "metadata": {},
   "outputs": [
    {
     "name": "stdout",
     "output_type": "stream",
     "text": [
      "[2 4 2 3 4 8 5 2 1 1 2 3 5 3 1 8 7 5 5 8]\n",
      "calc in 0.00031495094299316406\n",
      "[2 4 2 3 4 8 5 2 1 1 2 3 5 3 1 8 7 5 5 8]\n"
     ]
    }
   ],
   "source": [
    "img = np.ones((9, 9))\n",
    "side = img.shape[0]\n",
    "\n",
    "bound_row = img.shape[0] - 1\n",
    "bound_col = img.shape[1] - 1\n",
    "\n",
    "cani = np.random.randint(1, 9, 20)\n",
    "print(cani)\n",
    "can = mvs[cani]\n",
    "'''\n",
    "cum = np.cumsum(can, axis=0)\n",
    "row_reach = cum[:, 0]\n",
    "col_reach = cum[:, 1]\n",
    "\n",
    "print(can, col_reach, row_reach)\n",
    "\n",
    "out_left = col_reach < 0\n",
    "out_right = col_reach > bound_col\n",
    "print(out_left)\n",
    "print(out_right)\n",
    "'''\n",
    "\n",
    "start_time = time.time()\n",
    "\n",
    "row = side - 1 \n",
    "col = 0\n",
    "zero = [0,0]\n",
    "for i, move in enumerate(can):\n",
    "    next_row = row + move[0]\n",
    "    next_col = col + move[1]\n",
    "    if (0 <= next_row <= bound_row) and (0 <= next_col <= bound_col):\n",
    "        row = next_row\n",
    "        col = next_col\n",
    "    else:\n",
    "        can[i] = zero\n",
    "        cani[i] = 0\n",
    "        \n",
    "print(f'calc in {(time.time() - start_time)}')\n",
    "\n",
    "print(cani)"
   ]
  },
  {
   "cell_type": "code",
   "execution_count": 50,
   "id": "d2642f0d-6840-4c34-8e77-8de5ee6e95a5",
   "metadata": {},
   "outputs": [
    {
     "name": "stdout",
     "output_type": "stream",
     "text": [
      "30\n",
      "[[-1  1]\n",
      " [ 1  1]\n",
      " [-1  1]\n",
      " [ 0  1]\n",
      " [ 1  1]\n",
      " [-1 -1]\n",
      " [ 1  0]\n",
      " [-1  1]\n",
      " [-1  0]\n",
      " [-1  0]\n",
      " [-1  1]\n",
      " [ 0  1]\n",
      " [ 1  0]\n",
      " [ 0  1]\n",
      " [-1  0]\n",
      " [-1 -1]\n",
      " [ 0 -1]\n",
      " [ 1  0]\n",
      " [ 1  0]\n",
      " [-1 -1]]\n",
      "[[-1  1]\n",
      " [ 0  2]\n",
      " [-1  3]\n",
      " [-1  4]\n",
      " [ 0  5]\n",
      " [-1  4]\n",
      " [ 0  4]\n",
      " [-1  5]\n",
      " [-2  5]\n",
      " [-3  5]\n",
      " [-4  6]\n",
      " [-4  7]\n",
      " [-3  7]\n",
      " [-3  8]\n",
      " [-4  8]\n",
      " [-5  7]\n",
      " [-5  6]\n",
      " [-4  6]\n",
      " [-3  6]\n",
      " [-4  5]]\n",
      "[ -30    0  -30  -30    0  -30    0  -30  -60  -90 -120 -120  -90  -90\n",
      " -120 -150 -150 -120  -90 -120]\n"
     ]
    }
   ],
   "source": [
    "cum = np.cumsum(can, axis=0)\n",
    "start = (imgside - 1) * imgside \n",
    "offsets = cum[:, 0] * imgside\n",
    "pixlocs = offsets + cum[:, 1] + start\n",
    "\n",
    "print(imgside)\n",
    "print(can)\n",
    "print(cum)\n",
    "\n",
    "print(offsets)"
   ]
  },
  {
   "cell_type": "code",
   "execution_count": 51,
   "id": "7c9e55fe-074f-42cd-b3e9-d5d129706047",
   "metadata": {},
   "outputs": [
    {
     "data": {
      "text/plain": [
       "array([841, 872, 843, 844, 875, 844, 874, 845, 815, 785, 756, 757, 787,\n",
       "       788, 758, 727, 726, 756, 786, 755])"
      ]
     },
     "execution_count": 51,
     "metadata": {},
     "output_type": "execute_result"
    }
   ],
   "source": [
    "pixlocs"
   ]
  },
  {
   "cell_type": "code",
   "execution_count": 77,
   "id": "9201e3c4-534f-4ba5-9976-d65276e13f25",
   "metadata": {},
   "outputs": [
    {
     "name": "stdout",
     "output_type": "stream",
     "text": [
      "old:0.0005209445953369141 new:0.0008161067962646484 ratio:1.5665903890160182 same:True\n"
     ]
    },
    {
     "data": {
      "image/png": "[encoded data removed]",
      "text/plain": [
       "<Figure size 2880x432 with 1 Axes>"
      ]
     },
     "metadata": {
      "needs_background": "light"
     },
     "output_type": "display_data"
    },
    {
     "data": {
      "image/png": "[encoded data removed]",
      "text/plain": [
       "<Figure size 2880x432 with 1 Axes>"
      ]
     },
     "metadata": {
      "needs_background": "light"
     },
     "output_type": "display_data"
    },
    {
     "data": {
      "image/png": "[encoded data removed]",
      "text/plain": [
       "<Figure size 2880x432 with 1 Axes>"
      ]
     },
     "metadata": {
      "needs_background": "light"
     },
     "output_type": "display_data"
    }
   ],
   "source": [
    "import numpy as np\n",
    "import cv2\n",
    "import matplotlib.pyplot as plt\n",
    "import time\n",
    "\n",
    "# DEF\n",
    "def show_image(img, size=(40, 6), title=None):\n",
    "    plt.figure(figsize=size)\n",
    "    plt.axis('off')\n",
    "    \n",
    "    if title is not None:\n",
    "        plt.title(title)\n",
    "    \n",
    "    plt.imshow(img, cmap=\"gray\", vmin=0, vmax=1)\n",
    "    plt.show()\n",
    "    \n",
    "def read_image(image_path):\n",
    "    img = cv2.imread(image_path)\n",
    "    img = cv2.cvtColor(img, cv2.COLOR_BGR2GRAY)\n",
    "    img = img // 255\n",
    "    return img\n",
    "\n",
    "# READ IMAGE\n",
    "img = read_image('images/owl_pix.png')\n",
    "\n",
    "# META\n",
    "bound_row = img.shape[0] - 1\n",
    "bound_col = img.shape[1] - 1\n",
    "side_size = img.shape[0]\n",
    "\n",
    "# CREATE CANDIDATE\n",
    "candidate = np.random.randint(1, 9, img.shape[1])\n",
    "mvs = np.array(moves)\n",
    "can = mvs[candidate]\n",
    "\n",
    "### OLD APPROACH\n",
    "sol_old = np.ones(img.shape)\n",
    "\n",
    "start_time = time.time()\n",
    "###############################\n",
    "row = side_size - 1 \n",
    "col = 0\n",
    "sol_old[row][col] = 0\n",
    "for move in can:\n",
    "    next_row = row + move[0]\n",
    "    next_col = col + move[1]\n",
    "    if (0 <= next_row <= bound_row) and (0 <= next_col <= bound_col):\n",
    "        row = next_row\n",
    "        col = next_col\n",
    "        sol_old[row][col] = 0\n",
    "###############################\n",
    "old_time = time.time() - start_time\n",
    "\n",
    "### NEW APPROACH\n",
    "sol_new = np.ones(img.shape).reshape(-1)\n",
    "\n",
    "start_time = time.time()\n",
    "###############################\n",
    "row = side_size - 1 \n",
    "col = 0\n",
    "for i, move in enumerate(can):\n",
    "    next_row = row + move[0]\n",
    "    next_col = col + move[1]\n",
    "    if (0 <= next_row <= bound_row) and (0 <= next_col <= bound_col):\n",
    "        row = next_row\n",
    "        col = next_col\n",
    "    else:\n",
    "        can[i] = 0\n",
    "cum = np.cumsum(can, axis=0)\n",
    "start = (imgside - 1) * imgside \n",
    "offsets = cum[:, 0] * imgside\n",
    "pixlocs = offsets + cum[:, 1] + start\n",
    "sol_new[start] = 0\n",
    "sol_new[pixlocs] = 0\n",
    "sol_new = sol_new.reshape(img.shape)\n",
    "###############################\n",
    "new_time = time.time() - start_time\n",
    "\n",
    "print(f'old:{old_time} new:{new_time} ratio:{new_time/old_time} same:{(sol_old==sol_new).all()}')\n",
    "show_image(sol_old)\n",
    "show_image(sol_new)\n",
    "show_image(img)"
   ]
  },
  {
   "cell_type": "code",
   "execution_count": 146,
   "id": "64dac0bc-dcf8-4eea-be6a-81c40bc76000",
   "metadata": {},
   "outputs": [
    {
     "name": "stdout",
     "output_type": "stream",
     "text": [
      "old:0.00047707557678222656 new:0.0066187381744384766 ratio:13.873563218390805 same:True\n"
     ]
    },
    {
     "data": {
      "image/png": "[encoded data removed]",
      "text/plain": [
       "<Figure size 2880x432 with 1 Axes>"
      ]
     },
     "metadata": {
      "needs_background": "light"
     },
     "output_type": "display_data"
    },
    {
     "data": {
      "image/png": "[encoded data removed]",
      "text/plain": [
       "<Figure size 2880x432 with 1 Axes>"
      ]
     },
     "metadata": {
      "needs_background": "light"
     },
     "output_type": "display_data"
    },
    {
     "data": {
      "image/png": "[encoded data removed]",
      "text/plain": [
       "<Figure size 2880x432 with 1 Axes>"
      ]
     },
     "metadata": {
      "needs_background": "light"
     },
     "output_type": "display_data"
    }
   ],
   "source": [
    "import numpy as np\n",
    "import cv2\n",
    "import matplotlib.pyplot as plt\n",
    "import time\n",
    "\n",
    "# DEF\n",
    "def show_image(img, size=(40, 6), title=None):\n",
    "    plt.figure(figsize=size)\n",
    "    plt.axis('off')\n",
    "    \n",
    "    if title is not None:\n",
    "        plt.title(title)\n",
    "    \n",
    "    plt.imshow(img, cmap=\"gray\", vmin=0, vmax=1)\n",
    "    plt.show()\n",
    "    \n",
    "def read_image(image_path):\n",
    "    img = cv2.imread(image_path)\n",
    "    img = cv2.cvtColor(img, cv2.COLOR_BGR2GRAY)\n",
    "    img = img // 255\n",
    "    return img\n",
    "\n",
    "# READ IMAGE\n",
    "img = read_image('images/owl_pix.png')\n",
    "\n",
    "# META\n",
    "bound_row = img.shape[0] - 1\n",
    "bound_col = img.shape[1] - 1\n",
    "side_size = img.shape[0]\n",
    "\n",
    "# CREATE CANDIDATE\n",
    "candidate = np.random.randint(1, 9, img.shape[1])\n",
    "mvs = np.array(moves)\n",
    "can = mvs[candidate]\n",
    "\n",
    "### OLD APPROACH\n",
    "start_time = time.time()\n",
    "###############################\n",
    "sol_old = np.ones(img.shape)\n",
    "row = side_size - 1 \n",
    "col = 0\n",
    "sol_old[row][col] = 0\n",
    "for move in can:\n",
    "    next_row = row + move[0]\n",
    "    next_col = col + move[1]\n",
    "    if (0 <= next_row <= bound_row) and (0 <= next_col <= bound_col):\n",
    "        row = next_row\n",
    "        col = next_col\n",
    "        sol_old[row][col] = 0\n",
    "###############################\n",
    "old_time = time.time() - start_time\n",
    "\n",
    "### NEW APPROACH 2\n",
    "start_time = time.time()\n",
    "###############################\n",
    "sol_new = np.ones(side_size**2)\n",
    "row = side_size - 1 \n",
    "col = 0\n",
    "sol_new[row*side_size + col] = 0\n",
    "for move in can:\n",
    "    next_row = row + move[0]\n",
    "    next_col = col + move[1]\n",
    "    if (0 <= next_row <= bound_row) and (0 <= next_col <= bound_col):\n",
    "        row = next_row\n",
    "        col = next_col\n",
    "        sol_new[row*side_size + col] = 0\n",
    "sol_new = sol_new.reshape(img.shape)\n",
    "###############################\n",
    "new_time = time.time() - start_time\n",
    "\n",
    "print(f'old:{old_time} new:{new_time} ratio:{new_time/old_time} same:{(sol_old==sol_new).all()}')\n",
    "show_image(sol_old)\n",
    "show_image(sol_new)\n",
    "show_image(img)"
   ]
  },
  {
   "cell_type": "code",
   "execution_count": 169,
   "id": "3eac2f55-d5a0-4f64-aa3d-1f74f61ee0c7",
   "metadata": {},
   "outputs": [
    {
     "data": {
      "image/png": "[encoded data removed]",
      "text/plain": [
       "<Figure size 2880x432 with 1 Axes>"
      ]
     },
     "metadata": {
      "needs_background": "light"
     },
     "output_type": "display_data"
    }
   ],
   "source": [
    "from PIL import Image\n",
    "from PIL import ImageDraw\n",
    "from PIL import ImageFont\n",
    "\n",
    "# Open an Image\n",
    "img = Image.fromarray(cv2.imread('test.png').astype('uint8'), 'RGB')\n",
    "    \n",
    "# Call draw Method to add 2D graphics in an image\n",
    "I1 = ImageDraw.Draw(img)\n",
    "\n",
    "# Custom font style and font size\n",
    "myFont = ImageFont.truetype('Arial.ttf', 42)\n",
    " \n",
    "# Add Text to an image\n",
    "I1.text((10, 10), \"Gen 3\", font=myFont, fill=(210, 0, 0))\n",
    "    \n",
    "# Display edited image\n",
    "show_image(img)\n",
    "img.save('./temp/output.png')"
   ]
  },
  {
   "cell_type": "code",
   "execution_count": null,
   "id": "33812cd8-ded8-40c8-92a7-092b16596780",
   "metadata": {},
   "outputs": [],
   "source": []
  }
 ],
 "metadata": {
  "kernelspec": {
   "display_name": "Python 3 (ipykernel)",
   "language": "python",
   "name": "python3"
  },
  "language_info": {
   "codemirror_mode": {
    "name": "ipython",
    "version": 3
   },
   "file_extension": ".py",
   "mimetype": "text/x-python",
   "name": "python",
   "nbconvert_exporter": "python",
   "pygments_lexer": "ipython3",
   "version": "3.10.4"
  }
 },
 "nbformat": 4,
 "nbformat_minor": 5
}
