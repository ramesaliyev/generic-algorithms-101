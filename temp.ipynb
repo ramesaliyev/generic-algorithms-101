{
 "cells": [
  {
   "cell_type": "code",
   "execution_count": 1,
   "id": "c0f48342-f85c-47ce-884b-7c944c98b348",
   "metadata": {},
   "outputs": [],
   "source": [
    "import numpy as np"
   ]
  },
  {
   "cell_type": "code",
   "execution_count": 73,
   "id": "c325c094-186c-4ea2-93ab-6cc7b019bd15",
   "metadata": {},
   "outputs": [
    {
     "name": "stdout",
     "output_type": "stream",
     "text": [
      "[ 1  3  5  7  9 11 13 15 17 19]\n",
      "[0.4687671  0.1562557  0.09375342 0.06696673 0.05208523 0.04261519\n",
      " 0.03605901 0.03125114 0.02757454 0.02467195]\n",
      "1.0\n"
     ]
    }
   ],
   "source": [
    "strength = 2\n",
    "ft = np.arange(1, (10 * strength) + 1, strength)\n",
    "print(ft)\n",
    "\n",
    "ft = 1 / ft\n",
    "ft = ft / ft.sum()\n",
    "\n",
    "print(ft)\n",
    "print(ft.sum())"
   ]
  },
  {
   "cell_type": "code",
   "execution_count": 11,
   "id": "9fb73532-e17c-4772-914d-efdc2c299cd6",
   "metadata": {},
   "outputs": [
    {
     "data": {
      "text/plain": [
       "array([1, 2, 3, 4, 5, 6, 7, 8, 9])"
      ]
     },
     "execution_count": 11,
     "metadata": {},
     "output_type": "execute_result"
    }
   ],
   "source": [
    "np.arange(1, 10)"
   ]
  },
  {
   "cell_type": "code",
   "execution_count": 28,
   "id": "9c54a9f1-04c4-446c-9b96-780ed59fb4da",
   "metadata": {},
   "outputs": [
    {
     "data": {
      "text/plain": [
       "array([ 1,  3,  5,  7,  9, 11, 13, 15, 17, 19])"
      ]
     },
     "execution_count": 28,
     "metadata": {},
     "output_type": "execute_result"
    }
   ],
   "source": [
    "pop_size = 10\n",
    "step_size = 2\n",
    "\n",
    "np.arange(1, (pop_size * step_size + 1), step_size)"
   ]
  },
  {
   "cell_type": "code",
   "execution_count": 36,
   "id": "8be90103-4241-4180-804b-e53a93c5a707",
   "metadata": {},
   "outputs": [],
   "source": [
    "rotation_costs = [0, 1, 2, 3, 4, 3, 2, 1]\n",
    "rot_cost_mean = sum(rotation_costs) // len(rotation_costs)"
   ]
  },
  {
   "cell_type": "code",
   "execution_count": 37,
   "id": "3792b08a-6770-4189-9866-6c1cbfc87000",
   "metadata": {},
   "outputs": [
    {
     "data": {
      "text/plain": [
       "16"
      ]
     },
     "execution_count": 37,
     "metadata": {},
     "output_type": "execute_result"
    }
   ],
   "source": [
    "1*2 + 2*2 + 3*2 + 4"
   ]
  },
  {
   "cell_type": "code",
   "execution_count": 43,
   "id": "037d0cd0-b6a4-42cf-9fab-fca0605b3ba7",
   "metadata": {},
   "outputs": [
    {
     "name": "stdout",
     "output_type": "stream",
     "text": [
      "4\n",
      "2.0\n"
     ]
    }
   ],
   "source": [
    "rotate_costs = np.roll(rotation_costs, 4 - 1)\n",
    "step_rotate_cost = rotate_costs[0-1]\n",
    "ft_rotate_cost = step_rotate_cost / 2.0\n",
    "\n",
    "print(step_rotate_cost)\n",
    "print(ft_rotate_cost)"
   ]
  },
  {
   "cell_type": "code",
   "execution_count": 51,
   "id": "5761108b-53d2-477c-a090-f0ecb30a0551",
   "metadata": {},
   "outputs": [
    {
     "name": "stdout",
     "output_type": "stream",
     "text": [
      "[[0 4 7 3 1 3 7 7 6 5]\n",
      " [4 0 4 0 4 2 8 1 7 4]\n",
      " [2 2 0 2 2 0 4 5 7 3]\n",
      " [4 2 4 3 2 0 8 6 4 4]]\n",
      "[[ True False False  True False False False False False False]\n",
      " [False False False False False False False False False False]\n",
      " [False False False False False False False False False  True]\n",
      " [False  True False False False  True False False False False]]\n",
      "[[8 7 1 6 8 3 5 8 6 0]\n",
      " [0 5 7 8 2 3 8 7 7 6]\n",
      " [5 0 6 3 4 4 7 1 0 8]\n",
      " [3 4 0 5 1 2 1 7 3 7]]\n",
      "[[8 4 7 6 1 3 7 7 6 5]\n",
      " [4 0 4 0 4 2 8 1 7 4]\n",
      " [2 2 0 2 2 0 4 5 7 8]\n",
      " [4 4 4 3 2 2 8 6 4 4]]\n"
     ]
    }
   ],
   "source": [
    "population = np.random.randint(0, 9, (4, 10))\n",
    "print(population)\n",
    "\n",
    "mindx = np.random.rand(4, 10) < 0.10\n",
    "print(mindx)\n",
    "\n",
    "replacew = np.random.randint(0, 9, (4, 10))\n",
    "print(replacew)\n",
    "\n",
    "population[mindx] = replacew[mindx]\n",
    "print(population)"
   ]
  },
  {
   "cell_type": "code",
   "execution_count": 186,
   "id": "2d2f4139-e0db-4997-8580-49e9b1897406",
   "metadata": {},
   "outputs": [
    {
     "name": "stdout",
     "output_type": "stream",
     "text": [
      "0.017948573909485503\n"
     ]
    }
   ],
   "source": [
    "mut_prob = 0.05 # probability of mutation\n",
    "mut_decay = 0.001\n",
    "    \n",
    "print(mut_prob * ((1-mut_decay)**1024))"
   ]
  },
  {
   "cell_type": "code",
   "execution_count": 92,
   "id": "f4b891c3-81a1-4fee-98bb-b22f25551441",
   "metadata": {},
   "outputs": [
    {
     "data": {
      "text/plain": [
       "2.8821"
      ]
     },
     "execution_count": 92,
     "metadata": {},
     "output_type": "execute_result"
    }
   ],
   "source": [
    "round(2.882102452392664, 5)"
   ]
  },
  {
   "cell_type": "code",
   "execution_count": 95,
   "id": "e6c8e6db-f9ba-45a9-a434-f2abc51fcbdc",
   "metadata": {},
   "outputs": [
    {
     "data": {
      "text/plain": [
       "array([2.882102, 3.123123, 5.125244])"
      ]
     },
     "execution_count": 95,
     "metadata": {},
     "output_type": "execute_result"
    }
   ],
   "source": [
    "np.round([2.882102452392664, 3.123123, 5.1252443], 6)"
   ]
  },
  {
   "cell_type": "code",
   "execution_count": 190,
   "id": "9d5621db-d908-45e1-b6ec-346f565afdf8",
   "metadata": {},
   "outputs": [
    {
     "data": {
      "text/plain": [
       "0.6931471805599453"
      ]
     },
     "execution_count": 190,
     "metadata": {},
     "output_type": "execute_result"
    }
   ],
   "source": [
    "import math\n",
    "math.log(2)"
   ]
  },
  {
   "cell_type": "code",
   "execution_count": null,
   "id": "c9f3c9ba-f547-4dfb-b735-481fcee84f98",
   "metadata": {},
   "outputs": [],
   "source": []
  },
  {
   "cell_type": "code",
   "execution_count": 114,
   "id": "d5b1c72c-38a5-4534-972b-b82a8a50bb12",
   "metadata": {},
   "outputs": [
    {
     "name": "stdout",
     "output_type": "stream",
     "text": [
      "0\n"
     ]
    }
   ],
   "source": [
    "moves = [\n",
    "    (0, 0), (-1, 0), (-1, 1),\n",
    "    (0, 1), (1, 1), (1, 0),\n",
    "    (1, -1), (0, -1), (-1, -1),\n",
    "]\n",
    "\n",
    "# Costs of rotations.\n",
    "rotation_costs = [0, 1, 2, 3, 4, 3, 2, 1]\n",
    "\n",
    "prv = 1\n",
    "nxt = 1\n",
    "\n",
    "rotate_costs = np.roll(rotation_costs, prv - 1)\n",
    "step_rotate_cost = rotate_costs[nxt - 1]\n",
    "\n",
    "print(step_rotate_cost)"
   ]
  },
  {
   "cell_type": "code",
   "execution_count": 129,
   "id": "a6ba011f-2fc9-489c-956c-1b3d72f28549",
   "metadata": {},
   "outputs": [
    {
     "data": {
      "text/plain": [
       "3.5"
      ]
     },
     "execution_count": 129,
     "metadata": {},
     "output_type": "execute_result"
    }
   ],
   "source": [
    "(np.array(rotation_costs) > 0).sum() / 2"
   ]
  },
  {
   "cell_type": "code",
   "execution_count": 130,
   "id": "1f836d31-92ac-4add-a757-e9390f1b2016",
   "metadata": {},
   "outputs": [
    {
     "data": {
      "text/plain": [
       "-7"
      ]
     },
     "execution_count": 130,
     "metadata": {},
     "output_type": "execute_result"
    }
   ],
   "source": [
    "5-12"
   ]
  },
  {
   "cell_type": "code",
   "execution_count": 132,
   "id": "91f49a2e-c30c-49b0-b8fc-bac8aaced2a1",
   "metadata": {},
   "outputs": [
    {
     "name": "stdout",
     "output_type": "stream",
     "text": [
      "[39 61]\n"
     ]
    }
   ],
   "source": [
    "rng = np.random.default_rng()\n",
    "splits = rng.choice(100, size=2, replace=False)\n",
    "splits.sort()\n",
    "print(splits)"
   ]
  },
  {
   "cell_type": "code",
   "execution_count": 175,
   "id": "de6f61d6-cd7b-43cf-900f-e20bdbd01189",
   "metadata": {},
   "outputs": [
    {
     "name": "stdout",
     "output_type": "stream",
     "text": [
      "[34 67]\n"
     ]
    }
   ],
   "source": [
    "splits = rng.choice(100, size=2, replace=False)\n",
    "splits.sort()\n",
    "print(splits)"
   ]
  },
  {
   "cell_type": "code",
   "execution_count": 134,
   "id": "a2aacbf8-f7ca-48bf-8d79-4e51636ae9f8",
   "metadata": {},
   "outputs": [
    {
     "name": "stdout",
     "output_type": "stream",
     "text": [
      "[60 97]\n"
     ]
    }
   ],
   "source": [
    "splits = rng.choice(100, size=2, replace=False)\n",
    "splits.sort()\n",
    "print(splits)"
   ]
  },
  {
   "cell_type": "code",
   "execution_count": 135,
   "id": "3869ced6-f9d0-4f81-bbd9-d36c1e4e806c",
   "metadata": {},
   "outputs": [
    {
     "name": "stdout",
     "output_type": "stream",
     "text": [
      "[58 89]\n"
     ]
    }
   ],
   "source": [
    "splits = rng.choice(100, size=2, replace=False)\n",
    "splits.sort()\n",
    "print(splits)"
   ]
  },
  {
   "cell_type": "code",
   "execution_count": 136,
   "id": "6fe05708-e36a-4dee-a6da-720c15b2ed5a",
   "metadata": {},
   "outputs": [
    {
     "name": "stdout",
     "output_type": "stream",
     "text": [
      "[59 85]\n"
     ]
    }
   ],
   "source": [
    "splits = rng.choice(100, size=2, replace=False)\n",
    "splits.sort()\n",
    "print(splits)"
   ]
  },
  {
   "cell_type": "code",
   "execution_count": 178,
   "id": "379d431b-fb03-48ed-836f-80ad49a287f6",
   "metadata": {},
   "outputs": [
    {
     "data": {
      "text/plain": [
       "dtype('float64')"
      ]
     },
     "execution_count": 178,
     "metadata": {},
     "output_type": "execute_result"
    }
   ],
   "source": [
    "np.full(10, np.inf).dtype"
   ]
  },
  {
   "cell_type": "code",
   "execution_count": 179,
   "id": "0baa53bf-9a87-4121-bd05-dba1e5c40650",
   "metadata": {},
   "outputs": [
    {
     "name": "stdout",
     "output_type": "stream",
     "text": [
      "16\n"
     ]
    }
   ],
   "source": [
    "for xx in [1,2,3,4]:\n",
    "    arama = xx ** 2\n",
    "    \n",
    "print(arama)"
   ]
  },
  {
   "cell_type": "code",
   "execution_count": 200,
   "id": "480a71ef-feb2-4e84-9d63-8194bac1a9ee",
   "metadata": {},
   "outputs": [
    {
     "name": "stdout",
     "output_type": "stream",
     "text": [
      "[0.09836066 0.14754098 0.13114754 0.19672131 0.2295082  0.19672131]\n",
      "1.0\n",
      "float64\n"
     ]
    }
   ],
   "source": [
    "weights = [\n",
    "    1.2, # w_inv_mov_loss\n",
    "    1.8, # w_rotate_loss\n",
    "    1.6, # w_rotate_cost\n",
    "    2.4, # w_overlap_loss\n",
    "    2.8, # w_spread_loss\n",
    "    2.4, # w_paint_loss\n",
    "]\n",
    "\n",
    "weights /= np.array(weights).sum()\n",
    "\n",
    "print(weights)\n",
    "print(weights.sum())\n",
    "print(weights.dtype)"
   ]
  },
  {
   "cell_type": "code",
   "execution_count": 202,
   "id": "93ef48ee-9e1c-40c7-bdea-d0729abf01df",
   "metadata": {},
   "outputs": [
    {
     "data": {
      "text/plain": [
       "1.540983606557377"
      ]
     },
     "execution_count": 202,
     "metadata": {},
     "output_type": "execute_result"
    }
   ],
   "source": [
    "(weights * [1,2,1,2,1,2]).sum()"
   ]
  },
  {
   "cell_type": "code",
   "execution_count": 257,
   "id": "9fbb661a-2fc2-4882-9ad0-e1e8e58b5910",
   "metadata": {},
   "outputs": [
    {
     "name": "stdout",
     "output_type": "stream",
     "text": [
      "[[0 0 0 0 0]\n",
      " [0 0 1 0 0]\n",
      " [1 1 1 1 0]\n",
      " [0 0 1 1 1]\n",
      " [0 1 1 1 1]]\n",
      "\n",
      "0.528\n",
      "\n",
      "[[0 1 1 1 0]\n",
      " [2 4 3 3 1]\n",
      " [1 4 5 5 3]\n",
      " [3 6 7 7 4]\n",
      " [1 2 4 5 3]]\n",
      "\n"
     ]
    }
   ],
   "source": [
    "size = 5\n",
    "\n",
    "mat = np.random.randint(0, 2, (size, size))\n",
    "#mat = np.ones((size, size))\n",
    "print(mat)\n",
    "print()\n",
    "\n",
    "pad = np.pad(mat, ((1,1),(1,1)), mode='constant')\n",
    "#print(pad)\n",
    "#print()\n",
    "\n",
    "shift_bo = pad[0:size+0, 1:size+1]\n",
    "shift_to = pad[2:size+2, 1:size+1]\n",
    "shift_ri = pad[1:size+1, 0:size+0]\n",
    "shift_le = pad[1:size+1, 2:size+2]\n",
    "shift_bl = pad[0:size+0, 2:size+2]\n",
    "shift_br = pad[0:size+0, 0:size+0]\n",
    "shift_tl = pad[2:size+2, 2:size+2]\n",
    "shift_tr = pad[2:size+2, 0:size+0]\n",
    "\n",
    "density_map = shift_bo + shift_to + shift_ri + shift_le + shift_bl + shift_br + shift_tl + shift_tr\n",
    "\n",
    "inner_size = size - 2\n",
    "max_density = (3 * 4) + (5 * 4 * inner_size) + (8 * inner_size**2)\n",
    "density = round(density_map.sum() / max_density, 3)\n",
    "\n",
    "print(density)\n",
    "print()\n",
    "\n",
    "print(density_map)\n",
    "print()"
   ]
  }
 ],
 "metadata": {
  "kernelspec": {
   "display_name": "Python 3 (ipykernel)",
   "language": "python",
   "name": "python3"
  },
  "language_info": {
   "codemirror_mode": {
    "name": "ipython",
    "version": 3
   },
   "file_extension": ".py",
   "mimetype": "text/x-python",
   "name": "python",
   "nbconvert_exporter": "python",
   "pygments_lexer": "ipython3",
   "version": "3.10.4"
  }
 },
 "nbformat": 4,
 "nbformat_minor": 5
}
