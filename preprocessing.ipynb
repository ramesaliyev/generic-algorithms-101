{
 "cells": [
  {
   "cell_type": "code",
   "execution_count": 1,
   "id": "23a230cb-e29e-4a87-90d7-af7a44820b77",
   "metadata": {},
   "outputs": [],
   "source": [
    "import os\n",
    "import math\n",
    "import numpy as np\n",
    "import cv2\n",
    "import matplotlib.pyplot as plt\n",
    "\n",
    "from os import path, scandir\n",
    "from shutil import copyfile, rmtree"
   ]
  },
  {
   "cell_type": "code",
   "execution_count": 2,
   "id": "3650b726-f854-48ad-a007-45f25bebea89",
   "metadata": {},
   "outputs": [],
   "source": [
    "def show_image(img, size=(40, 6), title=None):\n",
    "    plt.figure(figsize=size)\n",
    "    plt.axis('off')\n",
    "    \n",
    "    if title is not None:\n",
    "        plt.title(title)\n",
    "    \n",
    "    plt.imshow(img, cmap=\"gray\", vmin=0, vmax=255)\n",
    "    plt.show()\n",
    "\n",
    "def crop_image(img):\n",
    "    # argwhere will give you the coordinates of every non-zero point\n",
    "    true_points = np.argwhere(img)\n",
    "    # take the smallest points and use them as the top left of your crop\n",
    "    tl = true_points.min(axis=0)\n",
    "    # take the largest points and use them as the bottom right of your crop\n",
    "    br = true_points.max(axis=0)\n",
    "    # plus 1 because slice isn't inclusive\n",
    "    out = img[tl[0]:br[0]+1, tl[1]:br[1]+1]\n",
    "    return out\n",
    "\n",
    "def pad_image(img, new_size):\n",
    "    height, width = img.shape\n",
    "    delta_h = new_size - height\n",
    "    delta_w = new_size - width\n",
    "    bottom = delta_h // 2\n",
    "    left = delta_w // 2\n",
    "    top = delta_h - bottom\n",
    "    right = delta_w - left\n",
    "    black = [0,0,0]\n",
    "    img = cv2.copyMakeBorder(img, top, bottom, left, right, cv2.BORDER_CONSTANT, value=black)\n",
    "    \n",
    "    return img\n",
    "\n",
    "def read_image(image_path):\n",
    "    img = cv2.imread(image_path)\n",
    "    img = cv2.cvtColor(img, cv2.COLOR_BGR2GRAY)\n",
    "    return img\n",
    "\n",
    "def process_image(img, size):\n",
    "    # to binary image.\n",
    "    img = cv2.threshold(img, 128, 255, cv2.THRESH_BINARY | cv2.THRESH_OTSU)[1]\n",
    "    \n",
    "    # fit to bounding box & resize\n",
    "    if (size != img.shape):\n",
    "        img = cv2.bitwise_not(img)\n",
    "        img = crop_image(img)\n",
    "        img = pad_image(img, max(img.shape) + 5)\n",
    "        img = cv2.resize(img, size, interpolation=cv2.INTER_NEAREST)\n",
    "        img = cv2.bitwise_not(img)\n",
    "    \n",
    "    return img"
   ]
  },
  {
   "cell_type": "code",
   "execution_count": 17,
   "id": "63120093-fd86-4615-a258-933ab22af1c3",
   "metadata": {},
   "outputs": [
    {
     "data": {
      "image/png": "[encoded data removed]",
      "text/plain": [
       "<Figure size 1080x720 with 2 Axes>"
      ]
     },
     "metadata": {
      "needs_background": "light"
     },
     "output_type": "display_data"
    }
   ],
   "source": [
    "size = 40\n",
    "out_size = (size,size)\n",
    "\n",
    "img0 = read_image('raw_images/heart.png')\n",
    "img1 = process_image(img0, out_size)\n",
    "\n",
    "f, (ax0, ax1) = plt.subplots(1, 2, figsize=(15,10))\n",
    "ax0.axis('off')\n",
    "ax1.axis('off')\n",
    "ax0.imshow(img0, cmap=\"gray\", vmin=0, vmax=255)\n",
    "ax1.imshow(img1, cmap=\"gray\", vmin=0, vmax=255);"
   ]
  },
  {
   "cell_type": "code",
   "execution_count": 4,
   "id": "31a00a11-c1b0-43f5-b99a-0f32aea12e7a",
   "metadata": {},
   "outputs": [],
   "source": [
    "root = path.join(\"raw_images\")\n",
    "target = path.join(\"images\")\n",
    "\n",
    "try:\n",
    "    rmtree(target)\n",
    "except: \n",
    "    pass\n",
    "\n",
    "os.mkdir(target)\n",
    "\n",
    "sizes = [(20,20), (40,40)]\n",
    "\n",
    "for entry in os.scandir(root):\n",
    "    if entry.name.endswith(\"png\"):\n",
    "        orig = read_image(entry.path)\n",
    "        for size in sizes:\n",
    "            img = process_image(orig, size)\n",
    "            name = entry.name.split('.png')[0]\n",
    "            img_path = path.join(target, f'{name}_{size[0]}.png')\n",
    "            cv2.imwrite(img_path, img)"
   ]
  }
 ],
 "metadata": {
  "kernelspec": {
   "display_name": "Python 3 (ipykernel)",
   "language": "python",
   "name": "python3"
  },
  "language_info": {
   "codemirror_mode": {
    "name": "ipython",
    "version": 3
   },
   "file_extension": ".py",
   "mimetype": "text/x-python",
   "name": "python",
   "nbconvert_exporter": "python",
   "pygments_lexer": "ipython3",
   "version": "3.10.4"
  }
 },
 "nbformat": 4,
 "nbformat_minor": 5
}
