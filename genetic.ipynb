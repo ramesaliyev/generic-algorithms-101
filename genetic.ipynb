{
 "cells": [
  {
   "cell_type": "markdown",
   "id": "85a576f7-1d1b-4378-8e05-a8a3fac6c01b",
   "metadata": {},
   "source": [
    "### Imports"
   ]
  },
  {
   "cell_type": "code",
   "execution_count": 1,
   "id": "007833c9-2a5d-4fe1-8c5c-dd035e33e216",
   "metadata": {},
   "outputs": [],
   "source": [
    "import numpy as np\n",
    "import cv2\n",
    "import matplotlib.pyplot as plt"
   ]
  },
  {
   "cell_type": "code",
   "execution_count": 8,
   "id": "d2c2bba4-ac37-47ea-ab70-56b0f66680e8",
   "metadata": {},
   "outputs": [
    {
     "data": {
      "text/plain": [
       "False"
      ]
     },
     "execution_count": 8,
     "metadata": {},
     "output_type": "execute_result"
    }
   ],
   "source": [
    "3 > np.inf"
   ]
  },
  {
   "cell_type": "code",
   "execution_count": 9,
   "id": "8a369c0b-fbfc-474e-9067-f64806bf22b0",
   "metadata": {},
   "outputs": [
    {
     "data": {
      "text/plain": [
       "True"
      ]
     },
     "execution_count": 9,
     "metadata": {},
     "output_type": "execute_result"
    }
   ],
   "source": [
    "1 < np.inf"
   ]
  },
  {
   "cell_type": "markdown",
   "id": "89406c70-5879-4d0c-9edf-7f5ec1331895",
   "metadata": {},
   "source": [
    "### Utils"
   ]
  },
  {
   "cell_type": "code",
   "execution_count": 2,
   "id": "606559d8-965e-419b-8411-298273d991f3",
   "metadata": {},
   "outputs": [],
   "source": [
    "def show_image(img, size=(40, 6), title=None):\n",
    "    plt.figure(figsize=size)\n",
    "    plt.axis('off')\n",
    "    \n",
    "    if title is not None:\n",
    "        plt.title(title)\n",
    "    \n",
    "    plt.imshow(img, cmap=\"gray\", vmin=0, vmax=1)\n",
    "    plt.show()\n",
    "    \n",
    "def read_image(image_path):\n",
    "    img = cv2.imread(image_path)\n",
    "    img = cv2.cvtColor(img, cv2.COLOR_BGR2GRAY)\n",
    "    img = img // 255\n",
    "    return img"
   ]
  },
  {
   "cell_type": "code",
   "execution_count": 3,
   "id": "6b46ef52-24ae-4ff2-b691-9739b985d719",
   "metadata": {},
   "outputs": [
    {
     "data": {
      "image/png": "[encoded data removed]",
      "text/plain": [
       "<Figure size 2880x432 with 1 Axes>"
      ]
     },
     "metadata": {
      "needs_background": "light"
     },
     "output_type": "display_data"
    }
   ],
   "source": [
    "img = read_image('images/house3.png')\n",
    "show_image(img)"
   ]
  },
  {
   "cell_type": "code",
   "execution_count": null,
   "id": "e1c527e3-3fe2-4abd-a83c-119c706df3dd",
   "metadata": {},
   "outputs": [],
   "source": [
    "# Moves\n",
    "'''\n",
    "8 1 2\n",
    "7 0 3\n",
    "6 5 4\n",
    "'''\n",
    "moves = [\n",
    "    (0, 0), (-1, 0), (-1, 1),\n",
    "    (0, 1), (1, 1), (1, 0),\n",
    "    (1, -1), (0, -1), (-1, -1),\n",
    "]\n",
    "\n",
    "# Costs of rotations.\n",
    "rotation_costs = [0, 1, 2, 3, 4, 3, 2, 1]\n",
    "\n",
    "# Meta\n",
    "non_empty_pixels = (img == 0).sum()\n",
    "bound_row = img.shape[0] - 1\n",
    "bound_col = img.shape[1] - 1\n",
    "\n",
    "# Hyperparameters\n",
    "candidate_size = int(non_empty_pixels * 1.25) # size of a candidate solution\n",
    "pop_size = 4096 # candidate count per iteration\n",
    "mut_prob = 0.05 # probability of mutation\n",
    "mut_ratio = 0.1 # size of mutation\n",
    "mut_ratio_decay = 0.0005 # decay of mutation ratio per generation\n",
    "mut_size = int(candidate_size * mut_ratio)\n",
    "max_gen = 1024 # maximum generation\n",
    "cross_point = 2 # split points of crossover\n",
    "gen_keep = int(pop_size * 0.25) # number of best candidates to keep\n",
    "gen_renew = pop_size - gen_keep\n",
    "\n",
    "# Configurations\n",
    "log_interval = 1\n",
    "\n",
    "print(f'non_empty_pixels={non_empty_pixels}')\n",
    "print(f'candidate_size={candidate_size}')\n",
    "print(f'mut_size={mut_size}')\n",
    "print(f'gen_keep={gen_keep}')\n",
    "print(f'gen_renew={gen_renew}')"
   ]
  },
  {
   "cell_type": "code",
   "execution_count": null,
   "id": "3ac167df-80e4-412e-8046-bff12e87113a",
   "metadata": {},
   "outputs": [],
   "source": [
    "# Create number random generator\n",
    "rng = np.random.default_rng()\n",
    "\n",
    "# Create initial population.\n",
    "population = np.random.randint(0, 9, (pop_size, candidate_size))\n",
    "\n",
    "# Keep track of last gen's best.\n",
    "fit_of_gen_best = np.inf\n",
    "gen_of_gen_best = 0\n",
    "\n",
    "# Iterate generations.\n",
    "for gen in range(max_gen):    \n",
    "    fitnesses = []\n",
    "    \n",
    "    # Keep best solution to show.\n",
    "    best_fitness = np.inf\n",
    "    best_solution = None\n",
    "    \n",
    "    # Calculate fitness of each candidate\n",
    "    for candidate in population:\n",
    "        # Fitness of candidate\n",
    "        ft_rotate_cost = 0\n",
    "        ft_overlap_rate = 0\n",
    "        ft_spread_loss = 0\n",
    "        ft_paint_loss = 0\n",
    "        \n",
    "        # Create solution of this candidate.\n",
    "        solution = np.ones(img.shape)\n",
    "        \n",
    "        # Start point for solution.\n",
    "        prev_mov_dir = -1\n",
    "        row = img.shape[0] - 1 \n",
    "        col = 0\n",
    "        for direction in candidate:\n",
    "            # Paint pixel if in bound.\n",
    "            if (0 <= row <= bound_row) and (0 <= col <= bound_col):\n",
    "                solution[row][col] = 0\n",
    "            \n",
    "            # Calculate rotation cost.\n",
    "            if prev_mov_dir != -1:\n",
    "                rotate_costs = np.roll(rotation_costs, prev_mov_dir - 1)\n",
    "                step_rotate_cost = rotate_costs[direction - 1]\n",
    "                ft_rotate_cost = step_rotate_cost / 4\n",
    "            prev_mov_dir = direction\n",
    "            \n",
    "            # Findout next position.\n",
    "            move = moves[direction]\n",
    "            next_row = row + move[0]\n",
    "            next_col = col + move[1]\n",
    "            if (0 <= next_row <= bound_row) and (0 <= next_col <= bound_col):\n",
    "                row = next_row\n",
    "                col = next_col\n",
    "        \n",
    "        # Normalize rotation cost of candidate.\n",
    "        ft_rotate_cost /= candidate_size\n",
    "        \n",
    "        # Calculate overlap rate fitness.\n",
    "        overlap = (np.logical_or(solution, img) == False).sum()\n",
    "        ft_overlap_rate = 1 - (overlap / non_empty_pixels)\n",
    "        \n",
    "        # Calculate spread loss fitness.\n",
    "        ft_spread_loss = (non_empty_pixels - overlap) / non_empty_pixels\n",
    "        \n",
    "        # Calculate paint loss fitness. \n",
    "        non_empy_solution = (solution == 0).sum()\n",
    "        ft_paint_loss = (candidate_size - non_empy_solution) / candidate_size\n",
    "        \n",
    "        # Calculate total fitness.\n",
    "        fitness = 0\n",
    "        fitness += 0.2 * ft_rotate_cost\n",
    "        fitness += 1.6 * ft_overlap_rate\n",
    "        fitness += 0.8 * ft_spread_loss\n",
    "        fitness += 0.4 * ft_paint_loss\n",
    "        fitnesses.append(fitness)\n",
    "        \n",
    "        # Keep if best candidate.\n",
    "        if fitness < best_fitness:\n",
    "            best_fitness = fitness\n",
    "            best_solution = solution\n",
    "    \n",
    "    # Order the candidates by their fitness.\n",
    "    fitnesses = np.array(fitnesses)\n",
    "    orders = fitnesses.argsort()\n",
    "    fitnesses = fitnesses[orders]\n",
    "    population = population[orders] \n",
    "    \n",
    "    # Calculate weight distribution of candidates.\n",
    "    ft_probs = 1 / fitnesses\n",
    "    ft_probs = ft_probs / ft_probs.sum()\n",
    "\n",
    "    # Create 2n pairs by weighted random (fitness)\n",
    "    pairs_len = pop_size * 2\n",
    "    pairs = population[np.random.choice(population.shape[0], pairs_len, p=ft_probs)]\n",
    "    \n",
    "    # Crossover and Mutate to create new candidates.\n",
    "    new_population = []\n",
    "    for i in range(0, pairs_len, 2):\n",
    "        # Crossover \n",
    "        a = pairs[i]\n",
    "        b = pairs[i+1]\n",
    "        # Generate random split points.\n",
    "        splits = rng.choice(candidate_size, size=cross_point, replace=False)\n",
    "        splits.sort()\n",
    "        # Split parents.\n",
    "        a = np.split(a, splits, axis=0)\n",
    "        b = np.split(b, splits, axis=0)\n",
    "        pair = [a, b]\n",
    "        # Pick parts randomly from parents.\n",
    "        picks = np.random.randint(0, 2, cross_point + 1)\n",
    "        new_candidate = [x for i, p in enumerate(picks) for x in pair[p][i]]\n",
    "        \n",
    "        # Mutate Candidate\n",
    "        if np.random.rand() < mut_prob:\n",
    "            mut_ratio *= (1 - mut_ratio_decay) ** gen\n",
    "            mut_size = int(candidate_size * mut_ratio)\n",
    "            new_sequence = np.random.randint(0, 9, mut_size)\n",
    "            insert_point = np.random.randint(0, candidate_size - mut_size - 1, 1)[0]\n",
    "            new_candidate[insert_point:insert_point+mut_size] = new_sequence\n",
    "        \n",
    "        # Add candidate to new population.\n",
    "        new_population.append(new_candidate)\n",
    "        \n",
    "    # Keep some of current generation and fill rest with new.\n",
    "    population[gen_keep:] = new_population[:gen_renew]\n",
    "    \n",
    "    # Keep stats of generation's best\n",
    "    if fitnesses[0] < fit_of_gen_best:\n",
    "        fit_of_gen_best = fitnesses[0]\n",
    "        gen_of_gen_best = gen\n",
    "        \n",
    "    # Show the best candidate.\n",
    "    if gen % log_interval == 0:\n",
    "        print(f'Gen#{gen} ft={fitnesses[0]} bestgen={gen_of_gen_best}')\n",
    "        show_image(best_solution)"
   ]
  }
 ],
 "metadata": {
  "kernelspec": {
   "display_name": "Python 3 (ipykernel)",
   "language": "python",
   "name": "python3"
  },
  "language_info": {
   "codemirror_mode": {
    "name": "ipython",
    "version": 3
   },
   "file_extension": ".py",
   "mimetype": "text/x-python",
   "name": "python",
   "nbconvert_exporter": "python",
   "pygments_lexer": "ipython3",
   "version": "3.10.4"
  }
 },
 "nbformat": 4,
 "nbformat_minor": 5
}
